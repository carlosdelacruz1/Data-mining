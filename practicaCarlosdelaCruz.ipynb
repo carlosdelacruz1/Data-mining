{
 "cells": [
  {
   "cell_type": "markdown",
   "metadata": {},
   "source": [
    "Vasmos a cargar el dataset de AirBnB descargado de [aquí](https://public.opendatasoft.com/explore/dataset/airbnb-listings/export/?disjunctive.host_verifications&disjunctive.amenities&disjunctive.features&q=Madrid&dataChart=eyJxdWVyaWVzIjpbeyJjaGFydHMiOlt7InR5cGUiOiJjb2x1bW4iLCJmdW5jIjoiQ09VTlQiLCJ5QXhpcyI6Imhvc3RfbGlzdGluZ3NfY291bnQiLCJzY2llbnRpZmljRGlzcGxheSI6dHJ1ZSwiY29sb3IiOiJyYW5nZS1jdXN0b20ifV0sInhBeGlzIjoiY2l0eSIsIm1heHBvaW50cyI6IiIsInRpbWVzY2FsZSI6IiIsInNvcnQiOiIiLCJzZXJpZXNCcmVha2Rvd24iOiJyb29tX3R5cGUiLCJjb25maWciOnsiZGF0YXNldCI6ImFpcmJuYi1saXN0aW5ncyIsIm9wdGlvbnMiOnsiZGlzanVuY3RpdmUuaG9zdF92ZXJpZmljYXRpb25zIjp0cnVlLCJkaXNqdW5jdGl2ZS5hbWVuaXRpZXMiOnRydWUsImRpc2p1bmN0aXZlLmZlYXR1cmVzIjp0cnVlfX19XSwidGltZXNjYWxlIjoiIiwiZGlzcGxheUxlZ2VuZCI6dHJ1ZSwiYWxpZ25Nb250aCI6dHJ1ZX0%3D&location=16,41.38377,2.15774&basemap=jawg.streets)\n",
    "\n",
    "![](descargar.png)"
   ]
  },
  {
   "cell_type": "code",
   "execution_count": 1,
   "metadata": {},
   "outputs": [],
   "source": [
    "airbnb<-read.csv('airbnb-listings.csv',sep = ';')\n",
    "options(repr.plot.height=4,repr.plot.width=6,repr.plot.res = 300)"
   ]
  },
  {
   "cell_type": "markdown",
   "metadata": {},
   "source": [
    "Vamos a quedarnos con las columnas de mayor interés:\n",
    "\n",
    "'City','Room.Type','Neighbourhood','Accommodates','Bathrooms','Bedrooms','Beds','Price','Square.Feet','Guests.Included','Extra.People','Review.Scores.Rating','Latitude', 'Longitude'"
   ]
  },
  {
   "cell_type": "code",
   "execution_count": 2,
   "metadata": {},
   "outputs": [
    {
     "data": {
      "text/html": [
       "<table class=\"dataframe\">\n",
       "<caption>A data.frame: 6 × 14</caption>\n",
       "<thead>\n",
       "\t<tr><th></th><th scope=col>City</th><th scope=col>Room.Type</th><th scope=col>Neighbourhood</th><th scope=col>Accommodates</th><th scope=col>Bathrooms</th><th scope=col>Bedrooms</th><th scope=col>Beds</th><th scope=col>Price</th><th scope=col>Square.Feet</th><th scope=col>Guests.Included</th><th scope=col>Extra.People</th><th scope=col>Review.Scores.Rating</th><th scope=col>Latitude</th><th scope=col>Longitude</th></tr>\n",
       "\t<tr><th></th><th scope=col>&lt;chr&gt;</th><th scope=col>&lt;chr&gt;</th><th scope=col>&lt;chr&gt;</th><th scope=col>&lt;int&gt;</th><th scope=col>&lt;dbl&gt;</th><th scope=col>&lt;int&gt;</th><th scope=col>&lt;int&gt;</th><th scope=col>&lt;int&gt;</th><th scope=col>&lt;int&gt;</th><th scope=col>&lt;int&gt;</th><th scope=col>&lt;int&gt;</th><th scope=col>&lt;int&gt;</th><th scope=col>&lt;dbl&gt;</th><th scope=col>&lt;dbl&gt;</th></tr>\n",
       "</thead>\n",
       "<tbody>\n",
       "\t<tr><th scope=row>1</th><td>Madrid</td><td>Entire home/apt</td><td>           </td><td>2</td><td>1.0</td><td>0</td><td>1</td><td>50</td><td>NA</td><td>2</td><td>15</td><td>96</td><td>40.40745</td><td>-3.707995</td></tr>\n",
       "\t<tr><th scope=row>2</th><td>Madrid</td><td>Entire home/apt</td><td>           </td><td>4</td><td>1.0</td><td>1</td><td>2</td><td>50</td><td>NA</td><td>2</td><td>25</td><td>81</td><td>40.40832</td><td>-3.705006</td></tr>\n",
       "\t<tr><th scope=row>3</th><td>Madrid</td><td>Entire home/apt</td><td>           </td><td>4</td><td>1.5</td><td>1</td><td>2</td><td>77</td><td>NA</td><td>1</td><td> 0</td><td>89</td><td>40.41372</td><td>-3.706823</td></tr>\n",
       "\t<tr><th scope=row>4</th><td>Madrid</td><td>Entire home/apt</td><td>Embajadores</td><td>2</td><td>1.0</td><td>1</td><td>2</td><td>50</td><td>NA</td><td>1</td><td>20</td><td>93</td><td>40.41126</td><td>-3.697305</td></tr>\n",
       "\t<tr><th scope=row>5</th><td>Madrid</td><td>Entire home/apt</td><td>Embajadores</td><td>5</td><td>1.0</td><td>2</td><td>4</td><td>95</td><td>NA</td><td>4</td><td> 0</td><td>97</td><td>40.41256</td><td>-3.701155</td></tr>\n",
       "\t<tr><th scope=row>6</th><td>Madrid</td><td>Entire home/apt</td><td>La Latina  </td><td>4</td><td>1.0</td><td>1</td><td>2</td><td>69</td><td>NA</td><td>2</td><td>18</td><td>91</td><td>40.40791</td><td>-3.705095</td></tr>\n",
       "</tbody>\n",
       "</table>\n"
      ],
      "text/latex": [
       "A data.frame: 6 × 14\n",
       "\\begin{tabular}{r|llllllllllllll}\n",
       "  & City & Room.Type & Neighbourhood & Accommodates & Bathrooms & Bedrooms & Beds & Price & Square.Feet & Guests.Included & Extra.People & Review.Scores.Rating & Latitude & Longitude\\\\\n",
       "  & <chr> & <chr> & <chr> & <int> & <dbl> & <int> & <int> & <int> & <int> & <int> & <int> & <int> & <dbl> & <dbl>\\\\\n",
       "\\hline\n",
       "\t1 & Madrid & Entire home/apt &             & 2 & 1.0 & 0 & 1 & 50 & NA & 2 & 15 & 96 & 40.40745 & -3.707995\\\\\n",
       "\t2 & Madrid & Entire home/apt &             & 4 & 1.0 & 1 & 2 & 50 & NA & 2 & 25 & 81 & 40.40832 & -3.705006\\\\\n",
       "\t3 & Madrid & Entire home/apt &             & 4 & 1.5 & 1 & 2 & 77 & NA & 1 &  0 & 89 & 40.41372 & -3.706823\\\\\n",
       "\t4 & Madrid & Entire home/apt & Embajadores & 2 & 1.0 & 1 & 2 & 50 & NA & 1 & 20 & 93 & 40.41126 & -3.697305\\\\\n",
       "\t5 & Madrid & Entire home/apt & Embajadores & 5 & 1.0 & 2 & 4 & 95 & NA & 4 &  0 & 97 & 40.41256 & -3.701155\\\\\n",
       "\t6 & Madrid & Entire home/apt & La Latina   & 4 & 1.0 & 1 & 2 & 69 & NA & 2 & 18 & 91 & 40.40791 & -3.705095\\\\\n",
       "\\end{tabular}\n"
      ],
      "text/markdown": [
       "\n",
       "A data.frame: 6 × 14\n",
       "\n",
       "| <!--/--> | City &lt;chr&gt; | Room.Type &lt;chr&gt; | Neighbourhood &lt;chr&gt; | Accommodates &lt;int&gt; | Bathrooms &lt;dbl&gt; | Bedrooms &lt;int&gt; | Beds &lt;int&gt; | Price &lt;int&gt; | Square.Feet &lt;int&gt; | Guests.Included &lt;int&gt; | Extra.People &lt;int&gt; | Review.Scores.Rating &lt;int&gt; | Latitude &lt;dbl&gt; | Longitude &lt;dbl&gt; |\n",
       "|---|---|---|---|---|---|---|---|---|---|---|---|---|---|---|\n",
       "| 1 | Madrid | Entire home/apt | <!----> | 2 | 1.0 | 0 | 1 | 50 | NA | 2 | 15 | 96 | 40.40745 | -3.707995 |\n",
       "| 2 | Madrid | Entire home/apt | <!----> | 4 | 1.0 | 1 | 2 | 50 | NA | 2 | 25 | 81 | 40.40832 | -3.705006 |\n",
       "| 3 | Madrid | Entire home/apt | <!----> | 4 | 1.5 | 1 | 2 | 77 | NA | 1 |  0 | 89 | 40.41372 | -3.706823 |\n",
       "| 4 | Madrid | Entire home/apt | Embajadores | 2 | 1.0 | 1 | 2 | 50 | NA | 1 | 20 | 93 | 40.41126 | -3.697305 |\n",
       "| 5 | Madrid | Entire home/apt | Embajadores | 5 | 1.0 | 2 | 4 | 95 | NA | 4 |  0 | 97 | 40.41256 | -3.701155 |\n",
       "| 6 | Madrid | Entire home/apt | La Latina   | 4 | 1.0 | 1 | 2 | 69 | NA | 2 | 18 | 91 | 40.40791 | -3.705095 |\n",
       "\n"
      ],
      "text/plain": [
       "  City   Room.Type       Neighbourhood Accommodates Bathrooms Bedrooms Beds\n",
       "1 Madrid Entire home/apt               2            1.0       0        1   \n",
       "2 Madrid Entire home/apt               4            1.0       1        2   \n",
       "3 Madrid Entire home/apt               4            1.5       1        2   \n",
       "4 Madrid Entire home/apt Embajadores   2            1.0       1        2   \n",
       "5 Madrid Entire home/apt Embajadores   5            1.0       2        4   \n",
       "6 Madrid Entire home/apt La Latina     4            1.0       1        2   \n",
       "  Price Square.Feet Guests.Included Extra.People Review.Scores.Rating Latitude\n",
       "1 50    NA          2               15           96                   40.40745\n",
       "2 50    NA          2               25           81                   40.40832\n",
       "3 77    NA          1                0           89                   40.41372\n",
       "4 50    NA          1               20           93                   40.41126\n",
       "5 95    NA          4                0           97                   40.41256\n",
       "6 69    NA          2               18           91                   40.40791\n",
       "  Longitude\n",
       "1 -3.707995\n",
       "2 -3.705006\n",
       "3 -3.706823\n",
       "4 -3.697305\n",
       "5 -3.701155\n",
       "6 -3.705095"
      ]
     },
     "metadata": {},
     "output_type": "display_data"
    }
   ],
   "source": [
    "var <- c('City','Room.Type','Neighbourhood','Accommodates','Bathrooms','Bedrooms','Beds','Price','Square.Feet','Guests.Included','Extra.People','Review.Scores.Rating','Latitude', 'Longitude')\n",
    "airbnb <- airbnb[var]\n",
    "head(airbnb)"
   ]
  },
  {
   "cell_type": "markdown",
   "metadata": {},
   "source": [
    "Nos quedarmos solo con las entradas de Madrid para Room.Type==\"Entire home/apt\" y cuyo barrio (Neighbourhood) no está vacio ''\n",
    "Podemos eliminar las siguientes columnas que ya no son necesarias:\n",
    "\"Room.Type\",'City'\n",
    "\n",
    "Llama a nuevo dataframe df_madrid."
   ]
  },
  {
   "cell_type": "code",
   "execution_count": 3,
   "metadata": {},
   "outputs": [
    {
     "data": {
      "text/html": [
       "<table class=\"dataframe\">\n",
       "<caption>A data.frame: 6 × 12</caption>\n",
       "<thead>\n",
       "\t<tr><th></th><th scope=col>Neighbourhood</th><th scope=col>Accommodates</th><th scope=col>Bathrooms</th><th scope=col>Bedrooms</th><th scope=col>Beds</th><th scope=col>Price</th><th scope=col>Square.Feet</th><th scope=col>Guests.Included</th><th scope=col>Extra.People</th><th scope=col>Review.Scores.Rating</th><th scope=col>Latitude</th><th scope=col>Longitude</th></tr>\n",
       "\t<tr><th></th><th scope=col>&lt;chr&gt;</th><th scope=col>&lt;int&gt;</th><th scope=col>&lt;dbl&gt;</th><th scope=col>&lt;int&gt;</th><th scope=col>&lt;int&gt;</th><th scope=col>&lt;int&gt;</th><th scope=col>&lt;int&gt;</th><th scope=col>&lt;int&gt;</th><th scope=col>&lt;int&gt;</th><th scope=col>&lt;int&gt;</th><th scope=col>&lt;dbl&gt;</th><th scope=col>&lt;dbl&gt;</th></tr>\n",
       "</thead>\n",
       "<tbody>\n",
       "\t<tr><th scope=row>4</th><td>Embajadores</td><td> 2</td><td>1</td><td>1</td><td> 2</td><td> 50</td><td>NA</td><td>1</td><td>20</td><td>93</td><td>40.41126</td><td>-3.697305</td></tr>\n",
       "\t<tr><th scope=row>5</th><td>Embajadores</td><td> 5</td><td>1</td><td>2</td><td> 4</td><td> 95</td><td>NA</td><td>4</td><td> 0</td><td>97</td><td>40.41256</td><td>-3.701155</td></tr>\n",
       "\t<tr><th scope=row>6</th><td>La Latina  </td><td> 4</td><td>1</td><td>1</td><td> 2</td><td> 69</td><td>NA</td><td>2</td><td>18</td><td>91</td><td>40.40791</td><td>-3.705095</td></tr>\n",
       "\t<tr><th scope=row>9</th><td>Embajadores</td><td> 4</td><td>1</td><td>1</td><td> 2</td><td> 57</td><td>NA</td><td>2</td><td> 8</td><td>98</td><td>40.41162</td><td>-3.703281</td></tr>\n",
       "\t<tr><th scope=row>10</th><td>La Latina  </td><td> 2</td><td>1</td><td>1</td><td> 1</td><td> 59</td><td>NA</td><td>1</td><td> 0</td><td>95</td><td>40.40734</td><td>-3.707019</td></tr>\n",
       "\t<tr><th scope=row>15</th><td>La Latina  </td><td>14</td><td>2</td><td>3</td><td>14</td><td>120</td><td>NA</td><td>2</td><td>18</td><td>92</td><td>40.40908</td><td>-3.704744</td></tr>\n",
       "</tbody>\n",
       "</table>\n"
      ],
      "text/latex": [
       "A data.frame: 6 × 12\n",
       "\\begin{tabular}{r|llllllllllll}\n",
       "  & Neighbourhood & Accommodates & Bathrooms & Bedrooms & Beds & Price & Square.Feet & Guests.Included & Extra.People & Review.Scores.Rating & Latitude & Longitude\\\\\n",
       "  & <chr> & <int> & <dbl> & <int> & <int> & <int> & <int> & <int> & <int> & <int> & <dbl> & <dbl>\\\\\n",
       "\\hline\n",
       "\t4 & Embajadores &  2 & 1 & 1 &  2 &  50 & NA & 1 & 20 & 93 & 40.41126 & -3.697305\\\\\n",
       "\t5 & Embajadores &  5 & 1 & 2 &  4 &  95 & NA & 4 &  0 & 97 & 40.41256 & -3.701155\\\\\n",
       "\t6 & La Latina   &  4 & 1 & 1 &  2 &  69 & NA & 2 & 18 & 91 & 40.40791 & -3.705095\\\\\n",
       "\t9 & Embajadores &  4 & 1 & 1 &  2 &  57 & NA & 2 &  8 & 98 & 40.41162 & -3.703281\\\\\n",
       "\t10 & La Latina   &  2 & 1 & 1 &  1 &  59 & NA & 1 &  0 & 95 & 40.40734 & -3.707019\\\\\n",
       "\t15 & La Latina   & 14 & 2 & 3 & 14 & 120 & NA & 2 & 18 & 92 & 40.40908 & -3.704744\\\\\n",
       "\\end{tabular}\n"
      ],
      "text/markdown": [
       "\n",
       "A data.frame: 6 × 12\n",
       "\n",
       "| <!--/--> | Neighbourhood &lt;chr&gt; | Accommodates &lt;int&gt; | Bathrooms &lt;dbl&gt; | Bedrooms &lt;int&gt; | Beds &lt;int&gt; | Price &lt;int&gt; | Square.Feet &lt;int&gt; | Guests.Included &lt;int&gt; | Extra.People &lt;int&gt; | Review.Scores.Rating &lt;int&gt; | Latitude &lt;dbl&gt; | Longitude &lt;dbl&gt; |\n",
       "|---|---|---|---|---|---|---|---|---|---|---|---|---|\n",
       "| 4 | Embajadores |  2 | 1 | 1 |  2 |  50 | NA | 1 | 20 | 93 | 40.41126 | -3.697305 |\n",
       "| 5 | Embajadores |  5 | 1 | 2 |  4 |  95 | NA | 4 |  0 | 97 | 40.41256 | -3.701155 |\n",
       "| 6 | La Latina   |  4 | 1 | 1 |  2 |  69 | NA | 2 | 18 | 91 | 40.40791 | -3.705095 |\n",
       "| 9 | Embajadores |  4 | 1 | 1 |  2 |  57 | NA | 2 |  8 | 98 | 40.41162 | -3.703281 |\n",
       "| 10 | La Latina   |  2 | 1 | 1 |  1 |  59 | NA | 1 |  0 | 95 | 40.40734 | -3.707019 |\n",
       "| 15 | La Latina   | 14 | 2 | 3 | 14 | 120 | NA | 2 | 18 | 92 | 40.40908 | -3.704744 |\n",
       "\n"
      ],
      "text/plain": [
       "   Neighbourhood Accommodates Bathrooms Bedrooms Beds Price Square.Feet\n",
       "4  Embajadores    2           1         1         2    50   NA         \n",
       "5  Embajadores    5           1         2         4    95   NA         \n",
       "6  La Latina      4           1         1         2    69   NA         \n",
       "9  Embajadores    4           1         1         2    57   NA         \n",
       "10 La Latina      2           1         1         1    59   NA         \n",
       "15 La Latina     14           2         3        14   120   NA         \n",
       "   Guests.Included Extra.People Review.Scores.Rating Latitude Longitude\n",
       "4  1               20           93                   40.41126 -3.697305\n",
       "5  4                0           97                   40.41256 -3.701155\n",
       "6  2               18           91                   40.40791 -3.705095\n",
       "9  2                8           98                   40.41162 -3.703281\n",
       "10 1                0           95                   40.40734 -3.707019\n",
       "15 2               18           92                   40.40908 -3.704744"
      ]
     },
     "metadata": {},
     "output_type": "display_data"
    }
   ],
   "source": [
    "airbnb <- airbnb[which(airbnb$City=='Madrid' & airbnb$Room.Type=='Entire home/apt' & airbnb$Neighbourhood != ''),]\n",
    "var2 <- c('Neighbourhood','Accommodates','Bathrooms','Bedrooms','Beds','Price','Square.Feet','Guests.Included','Extra.People','Review.Scores.Rating','Latitude', 'Longitude')\n",
    "df_madrid <- airbnb[var2]\n",
    "head(df_madrid)"
   ]
  },
  {
   "cell_type": "markdown",
   "metadata": {},
   "source": [
    "Crea una nueva columna llamada Square.Meters a partir de Square.Feet. Recuerda que un pie cuadrado son 0.092903 metros cuadrados."
   ]
  },
  {
   "cell_type": "code",
   "execution_count": 4,
   "metadata": {},
   "outputs": [
    {
     "data": {
      "text/html": [
       "<table class=\"dataframe\">\n",
       "<caption>A data.frame: 6 × 13</caption>\n",
       "<thead>\n",
       "\t<tr><th></th><th scope=col>Neighbourhood</th><th scope=col>Accommodates</th><th scope=col>Bathrooms</th><th scope=col>Bedrooms</th><th scope=col>Beds</th><th scope=col>Price</th><th scope=col>Square.Feet</th><th scope=col>Guests.Included</th><th scope=col>Extra.People</th><th scope=col>Review.Scores.Rating</th><th scope=col>Latitude</th><th scope=col>Longitude</th><th scope=col>Square.Meters</th></tr>\n",
       "\t<tr><th></th><th scope=col>&lt;chr&gt;</th><th scope=col>&lt;int&gt;</th><th scope=col>&lt;dbl&gt;</th><th scope=col>&lt;int&gt;</th><th scope=col>&lt;int&gt;</th><th scope=col>&lt;int&gt;</th><th scope=col>&lt;int&gt;</th><th scope=col>&lt;int&gt;</th><th scope=col>&lt;int&gt;</th><th scope=col>&lt;int&gt;</th><th scope=col>&lt;dbl&gt;</th><th scope=col>&lt;dbl&gt;</th><th scope=col>&lt;dbl&gt;</th></tr>\n",
       "</thead>\n",
       "<tbody>\n",
       "\t<tr><th scope=row>4</th><td>Embajadores</td><td> 2</td><td>1</td><td>1</td><td> 2</td><td> 50</td><td>NA</td><td>1</td><td>20</td><td>93</td><td>40.41126</td><td>-3.697305</td><td>NA</td></tr>\n",
       "\t<tr><th scope=row>5</th><td>Embajadores</td><td> 5</td><td>1</td><td>2</td><td> 4</td><td> 95</td><td>NA</td><td>4</td><td> 0</td><td>97</td><td>40.41256</td><td>-3.701155</td><td>NA</td></tr>\n",
       "\t<tr><th scope=row>6</th><td>La Latina  </td><td> 4</td><td>1</td><td>1</td><td> 2</td><td> 69</td><td>NA</td><td>2</td><td>18</td><td>91</td><td>40.40791</td><td>-3.705095</td><td>NA</td></tr>\n",
       "\t<tr><th scope=row>9</th><td>Embajadores</td><td> 4</td><td>1</td><td>1</td><td> 2</td><td> 57</td><td>NA</td><td>2</td><td> 8</td><td>98</td><td>40.41162</td><td>-3.703281</td><td>NA</td></tr>\n",
       "\t<tr><th scope=row>10</th><td>La Latina  </td><td> 2</td><td>1</td><td>1</td><td> 1</td><td> 59</td><td>NA</td><td>1</td><td> 0</td><td>95</td><td>40.40734</td><td>-3.707019</td><td>NA</td></tr>\n",
       "\t<tr><th scope=row>15</th><td>La Latina  </td><td>14</td><td>2</td><td>3</td><td>14</td><td>120</td><td>NA</td><td>2</td><td>18</td><td>92</td><td>40.40908</td><td>-3.704744</td><td>NA</td></tr>\n",
       "</tbody>\n",
       "</table>\n"
      ],
      "text/latex": [
       "A data.frame: 6 × 13\n",
       "\\begin{tabular}{r|lllllllllllll}\n",
       "  & Neighbourhood & Accommodates & Bathrooms & Bedrooms & Beds & Price & Square.Feet & Guests.Included & Extra.People & Review.Scores.Rating & Latitude & Longitude & Square.Meters\\\\\n",
       "  & <chr> & <int> & <dbl> & <int> & <int> & <int> & <int> & <int> & <int> & <int> & <dbl> & <dbl> & <dbl>\\\\\n",
       "\\hline\n",
       "\t4 & Embajadores &  2 & 1 & 1 &  2 &  50 & NA & 1 & 20 & 93 & 40.41126 & -3.697305 & NA\\\\\n",
       "\t5 & Embajadores &  5 & 1 & 2 &  4 &  95 & NA & 4 &  0 & 97 & 40.41256 & -3.701155 & NA\\\\\n",
       "\t6 & La Latina   &  4 & 1 & 1 &  2 &  69 & NA & 2 & 18 & 91 & 40.40791 & -3.705095 & NA\\\\\n",
       "\t9 & Embajadores &  4 & 1 & 1 &  2 &  57 & NA & 2 &  8 & 98 & 40.41162 & -3.703281 & NA\\\\\n",
       "\t10 & La Latina   &  2 & 1 & 1 &  1 &  59 & NA & 1 &  0 & 95 & 40.40734 & -3.707019 & NA\\\\\n",
       "\t15 & La Latina   & 14 & 2 & 3 & 14 & 120 & NA & 2 & 18 & 92 & 40.40908 & -3.704744 & NA\\\\\n",
       "\\end{tabular}\n"
      ],
      "text/markdown": [
       "\n",
       "A data.frame: 6 × 13\n",
       "\n",
       "| <!--/--> | Neighbourhood &lt;chr&gt; | Accommodates &lt;int&gt; | Bathrooms &lt;dbl&gt; | Bedrooms &lt;int&gt; | Beds &lt;int&gt; | Price &lt;int&gt; | Square.Feet &lt;int&gt; | Guests.Included &lt;int&gt; | Extra.People &lt;int&gt; | Review.Scores.Rating &lt;int&gt; | Latitude &lt;dbl&gt; | Longitude &lt;dbl&gt; | Square.Meters &lt;dbl&gt; |\n",
       "|---|---|---|---|---|---|---|---|---|---|---|---|---|---|\n",
       "| 4 | Embajadores |  2 | 1 | 1 |  2 |  50 | NA | 1 | 20 | 93 | 40.41126 | -3.697305 | NA |\n",
       "| 5 | Embajadores |  5 | 1 | 2 |  4 |  95 | NA | 4 |  0 | 97 | 40.41256 | -3.701155 | NA |\n",
       "| 6 | La Latina   |  4 | 1 | 1 |  2 |  69 | NA | 2 | 18 | 91 | 40.40791 | -3.705095 | NA |\n",
       "| 9 | Embajadores |  4 | 1 | 1 |  2 |  57 | NA | 2 |  8 | 98 | 40.41162 | -3.703281 | NA |\n",
       "| 10 | La Latina   |  2 | 1 | 1 |  1 |  59 | NA | 1 |  0 | 95 | 40.40734 | -3.707019 | NA |\n",
       "| 15 | La Latina   | 14 | 2 | 3 | 14 | 120 | NA | 2 | 18 | 92 | 40.40908 | -3.704744 | NA |\n",
       "\n"
      ],
      "text/plain": [
       "   Neighbourhood Accommodates Bathrooms Bedrooms Beds Price Square.Feet\n",
       "4  Embajadores    2           1         1         2    50   NA         \n",
       "5  Embajadores    5           1         2         4    95   NA         \n",
       "6  La Latina      4           1         1         2    69   NA         \n",
       "9  Embajadores    4           1         1         2    57   NA         \n",
       "10 La Latina      2           1         1         1    59   NA         \n",
       "15 La Latina     14           2         3        14   120   NA         \n",
       "   Guests.Included Extra.People Review.Scores.Rating Latitude Longitude\n",
       "4  1               20           93                   40.41126 -3.697305\n",
       "5  4                0           97                   40.41256 -3.701155\n",
       "6  2               18           91                   40.40791 -3.705095\n",
       "9  2                8           98                   40.41162 -3.703281\n",
       "10 1                0           95                   40.40734 -3.707019\n",
       "15 2               18           92                   40.40908 -3.704744\n",
       "   Square.Meters\n",
       "4  NA           \n",
       "5  NA           \n",
       "6  NA           \n",
       "9  NA           \n",
       "10 NA           \n",
       "15 NA           "
      ]
     },
     "metadata": {},
     "output_type": "display_data"
    }
   ],
   "source": [
    "df_madrid$Square.Meters<-df_madrid$Square.Feet*0.092903\n",
    "head(df_madrid)"
   ]
  },
  {
   "cell_type": "markdown",
   "metadata": {},
   "source": [
    "¿Que porcentaje de los apartamentos no muestran los metros cuadrados? Es decir, ¿cuantos tienen NA en Square.Meters?"
   ]
  },
  {
   "cell_type": "code",
   "execution_count": 5,
   "metadata": {},
   "outputs": [
    {
     "data": {
      "text/html": [
       "'El porcentaje de los apartamentos sin metros cuadrados son: 93.8 %'"
      ],
      "text/latex": [
       "'El porcentaje de los apartamentos sin metros cuadrados son: 93.8 \\%'"
      ],
      "text/markdown": [
       "'El porcentaje de los apartamentos sin metros cuadrados son: 93.8 %'"
      ],
      "text/plain": [
       "[1] \"El porcentaje de los apartamentos sin metros cuadrados son: 93.8 %\""
      ]
     },
     "metadata": {},
     "output_type": "display_data"
    }
   ],
   "source": [
    "cuantos_na <- (sum(is.na(df_madrid$Square.Meters))/ length(df_madrid$Square.Meters))*100\n",
    "paste(\"El porcentaje de los apartamentos sin metros cuadrados son:\",round(cuantos_na, 2),\"%\")"
   ]
  },
  {
   "cell_type": "markdown",
   "metadata": {},
   "source": [
    "De todos los apartamentos que tienen un valor de metros cuadrados diferente de NA \n",
    "¿Que porcentaje de los apartamentos tienen 0 metros cuadrados?"
   ]
  },
  {
   "cell_type": "code",
   "execution_count": 6,
   "metadata": {},
   "outputs": [
    {
     "data": {
      "text/html": [
       "'El porcentaje de los apartamentos con 0 metros cuadrados son: 3.75 %'"
      ],
      "text/latex": [
       "'El porcentaje de los apartamentos con 0 metros cuadrados son: 3.75 \\%'"
      ],
      "text/markdown": [
       "'El porcentaje de los apartamentos con 0 metros cuadrados son: 3.75 %'"
      ],
      "text/plain": [
       "[1] \"El porcentaje de los apartamentos con 0 metros cuadrados son: 3.75 %\""
      ]
     },
     "metadata": {},
     "output_type": "display_data"
    }
   ],
   "source": [
    "cuantos_cero <- (length(df_madrid[which(df_madrid$Square.Meters=='0'),]) / length(na.omit(df_madrid$Square.Meters)))*100\n",
    "paste(\"El porcentaje de los apartamentos con 0 metros cuadrados son:\",round(cuantos_cero, 2),\"%\")"
   ]
  },
  {
   "cell_type": "markdown",
   "metadata": {},
   "source": [
    "\n",
    "Reemplazar todos los 0m^2 por NA "
   ]
  },
  {
   "cell_type": "code",
   "execution_count": 9,
   "metadata": {},
   "outputs": [
    {
     "data": {
      "text/html": [
       "<style>\n",
       ".list-inline {list-style: none; margin:0; padding: 0}\n",
       ".list-inline>li {display: inline-block}\n",
       ".list-inline>li:not(:last-child)::after {content: \"\\00b7\"; padding: 0 .5ex}\n",
       "</style>\n",
       "<ol class=list-inline><li>NA</li><li>NA</li><li>NA</li><li>NA</li><li>NA</li><li>NA</li></ol>\n"
      ],
      "text/latex": [
       "\\begin{enumerate*}\n",
       "\\item NA\n",
       "\\item NA\n",
       "\\item NA\n",
       "\\item NA\n",
       "\\item NA\n",
       "\\item NA\n",
       "\\end{enumerate*}\n"
      ],
      "text/markdown": [
       "1. NA\n",
       "2. NA\n",
       "3. NA\n",
       "4. NA\n",
       "5. NA\n",
       "6. NA\n",
       "\n",
       "\n"
      ],
      "text/plain": [
       "[1] NA NA NA NA NA NA"
      ]
     },
     "metadata": {},
     "output_type": "display_data"
    }
   ],
   "source": [
    "head(df_madrid$Square.Meters)\n",
    "df_madrid$Square.Meters[df_madrid$Square.Meters=='0'] <-'NA'"
   ]
  },
  {
   "cell_type": "markdown",
   "metadata": {},
   "source": [
    "Son muchos, vamos a intentar crear un modelo que nos prediga cuantos son los metros cuadrados en función del resto de variables para tratar de rellenar esos NA. Pero **antes de crear el modelo** vamos a hacer:\n",
    "* pintar el histograma de los metros cuadrados y ver si tenemos que filtrar algún elemento más.\n",
    "* crearemos una variable sintética nueva basada en la similitud entre barrios que usaremos en nuestro modelo."
   ]
  },
  {
   "cell_type": "markdown",
   "metadata": {},
   "source": [
    "Pinta el histograma de los metros cuadrados y ver si tenemos que filtrar algún elemento más"
   ]
  },
  {
   "cell_type": "code",
   "execution_count": 11,
   "metadata": {},
   "outputs": [
    {
     "name": "stderr",
     "output_type": "stream",
     "text": [
      "ERROR while rich displaying an object: \u001b[1m\u001b[33mError\u001b[39m in `geom_histogram()`:\u001b[22m\n",
      "\u001b[1m\u001b[22m\u001b[33m!\u001b[39m Problem while computing stat.\n",
      "\u001b[36mℹ\u001b[39m Error occurred in the 1st layer.\n",
      "\u001b[1mCaused by error in `setup_params()`:\u001b[22m\n",
      "\u001b[1m\u001b[22m\u001b[33m!\u001b[39m `stat_bin()` requires a continuous \u001b[32mx\u001b[39m aesthetic\n",
      "\u001b[31m✖\u001b[39m the \u001b[32mx\u001b[39m aesthetic is discrete.\n",
      "\u001b[36mℹ\u001b[39m Perhaps you want `stat=\"count\"`?\n",
      "\n",
      "Traceback:\n",
      "1. tryCatch(withCallingHandlers({\n",
      " .     if (!mime %in% names(repr::mime2repr)) \n",
      " .         stop(\"No repr_* for mimetype \", mime, \" in repr::mime2repr\")\n",
      " .     rpr <- repr::mime2repr[[mime]](obj)\n",
      " .     if (is.null(rpr)) \n",
      " .         return(NULL)\n",
      " .     prepare_content(is.raw(rpr), rpr)\n",
      " . }, error = error_handler), error = outer_handler)\n",
      "2. tryCatchList(expr, classes, parentenv, handlers)\n",
      "3. tryCatchOne(expr, names, parentenv, handlers[[1L]])\n",
      "4. doTryCatch(return(expr), name, parentenv, handler)\n",
      "5. withCallingHandlers({\n",
      " .     if (!mime %in% names(repr::mime2repr)) \n",
      " .         stop(\"No repr_* for mimetype \", mime, \" in repr::mime2repr\")\n",
      " .     rpr <- repr::mime2repr[[mime]](obj)\n",
      " .     if (is.null(rpr)) \n",
      " .         return(NULL)\n",
      " .     prepare_content(is.raw(rpr), rpr)\n",
      " . }, error = error_handler)\n",
      "6. repr::mime2repr[[mime]](obj)\n",
      "7. repr_text.default(obj)\n",
      "8. paste(capture.output(print(obj)), collapse = \"\\n\")\n",
      "9. capture.output(print(obj))\n",
      "10. withVisible(...elt(i))\n",
      "11. print(obj)\n",
      "12. print.ggplot(obj)\n",
      "13. ggplot_build(x)\n",
      "14. ggplot_build.ggplot(x)\n",
      "15. by_layer(function(l, d) l$compute_statistic(d, layout), layers, \n",
      "  .     data, \"computing stat\")\n",
      "16. try_fetch(for (i in seq_along(data)) {\n",
      "  .     out[[i]] <- f(l = layers[[i]], d = data[[i]])\n",
      "  . }, error = function(cnd) {\n",
      "  .     cli::cli_abort(c(\"Problem while {step}.\", i = \"Error occurred in the {ordinal(i)} layer.\"), \n",
      "  .         call = layers[[i]]$constructor, parent = cnd)\n",
      "  . })\n",
      "17. tryCatch(withCallingHandlers(expr, error = function(cnd) {\n",
      "  .     {\n",
      "  .         .__handler_frame__. <- TRUE\n",
      "  .         .__setup_frame__. <- frame\n",
      "  .     }\n",
      "  .     out <- handlers[[1L]](cnd)\n",
      "  .     if (!inherits(out, \"rlang_zap\")) \n",
      "  .         throw(out)\n",
      "  . }), stackOverflowError = handlers[[1L]])\n",
      "18. tryCatchList(expr, classes, parentenv, handlers)\n",
      "19. tryCatchOne(expr, names, parentenv, handlers[[1L]])\n",
      "20. doTryCatch(return(expr), name, parentenv, handler)\n",
      "21. withCallingHandlers(expr, error = function(cnd) {\n",
      "  .     {\n",
      "  .         .__handler_frame__. <- TRUE\n",
      "  .         .__setup_frame__. <- frame\n",
      "  .     }\n",
      "  .     out <- handlers[[1L]](cnd)\n",
      "  .     if (!inherits(out, \"rlang_zap\")) \n",
      "  .         throw(out)\n",
      "  . })\n",
      "22. f(l = layers[[i]], d = data[[i]])\n",
      "23. l$compute_statistic(d, layout)\n",
      "24. compute_statistic(..., self = self)\n",
      "25. self$stat$setup_params(data, self$stat_params)\n",
      "26. setup_params(..., self = self)\n",
      "27. cli::cli_abort(c(\"{.fn {snake_class(self)}} requires a continuous {.field {x}} aesthetic\", \n",
      "  .     x = \"the {.field {x}} aesthetic is discrete.\", i = \"Perhaps you want {.code stat=\\\"count\\\"}?\"))\n",
      "28. rlang::abort(message, ..., call = call, use_cli_format = TRUE, \n",
      "  .     .frame = .frame)\n",
      "29. signal_abort(cnd, .file)\n",
      "30. signalCondition(cnd)\n",
      "31. (function (cnd) \n",
      "  . {\n",
      "  .     {\n",
      "  .         .__handler_frame__. <- TRUE\n",
      "  .         .__setup_frame__. <- frame\n",
      "  .     }\n",
      "  .     out <- handlers[[1L]](cnd)\n",
      "  .     if (!inherits(out, \"rlang_zap\")) \n",
      "  .         throw(out)\n",
      "  . })(structure(list(message = structure(\"`stat_bin()` requires a continuous \\033[32mx\\033[39m aesthetic\", names = \"\"), \n",
      "  .     trace = structure(list(call = list(IRkernel::main(), kernel$run(), \n",
      "  .         handle_shell(), executor$execute(msg), tryCatch(evaluate(request$content$code, \n",
      "  .             envir = .GlobalEnv, output_handler = oh, stop_on_error = 1L), \n",
      "  .             interrupt = function(cond) {\n",
      "  .                 log_debug(\"Interrupt during execution\")\n",
      "  .                 interrupted <<- TRUE\n",
      "  .             }, error = .self$handle_error), tryCatchList(expr, \n",
      "  .             classes, parentenv, handlers), tryCatchOne(tryCatchList(expr, \n",
      "  .             names[-nh], parentenv, handlers[-nh]), names[nh], \n",
      "  .             parentenv, handlers[[nh]]), doTryCatch(return(expr), \n",
      "  .             name, parentenv, handler), tryCatchList(expr, names[-nh], \n",
      "  .             parentenv, handlers[-nh]), tryCatchOne(expr, names, \n",
      "  .             parentenv, handlers[[1L]]), doTryCatch(return(expr), \n",
      "  .             name, parentenv, handler), evaluate(request$content$code, \n",
      "  .             envir = .GlobalEnv, output_handler = oh, stop_on_error = 1L), \n",
      "  .         evaluate_call(expr, parsed$src[[i]], envir = envir, enclos = enclos, \n",
      "  .             debug = debug, last = i == length(out), use_try = stop_on_error != \n",
      "  .                 2L, keep_warning = keep_warning, keep_message = keep_message, \n",
      "  .             output_handler = output_handler, include_timing = include_timing), \n",
      "  .         handle(pv <- withCallingHandlers(withVisible(value_fun(ev$value, \n",
      "  .             ev$visible)), warning = wHandler, error = eHandler, \n",
      "  .             message = mHandler)), try(f, silent = TRUE), tryCatch(expr, \n",
      "  .             error = function(e) {\n",
      "  .                 call <- conditionCall(e)\n",
      "  .                 if (!is.null(call)) {\n",
      "  .                   if (identical(call[[1L]], quote(doTryCatch))) \n",
      "  .                     call <- sys.call(-4L)\n",
      "  .                   dcall <- deparse(call, nlines = 1L)\n",
      "  .                   prefix <- paste(\"Error in\", dcall, \": \")\n",
      "  .                   LONG <- 75L\n",
      "  .                   sm <- strsplit(conditionMessage(e), \"\\n\")[[1L]]\n",
      "  .                   w <- 14L + nchar(dcall, type = \"w\") + nchar(sm[1L], \n",
      "  .                     type = \"w\")\n",
      "  .                   if (is.na(w)) \n",
      "  .                     w <- 14L + nchar(dcall, type = \"b\") + nchar(sm[1L], \n",
      "  .                       type = \"b\")\n",
      "  .                   if (w > LONG) \n",
      "  .                     prefix <- paste0(prefix, \"\\n  \")\n",
      "  .                 }\n",
      "  .                 else prefix <- \"Error : \"\n",
      "  .                 msg <- paste0(prefix, conditionMessage(e), \"\\n\")\n",
      "  .                 .Internal(seterrmessage(msg[1L]))\n",
      "  .                 if (!silent && isTRUE(getOption(\"show.error.messages\"))) {\n",
      "  .                   cat(msg, file = outFile)\n",
      "  .                   .Internal(printDeferredWarnings())\n",
      "  .                 }\n",
      "  .                 invisible(structure(msg, class = \"try-error\", \n",
      "  .                   condition = e))\n",
      "  .             }), tryCatchList(expr, classes, parentenv, handlers), \n",
      "  .         tryCatchOne(expr, names, parentenv, handlers[[1L]]), \n",
      "  .         doTryCatch(return(expr), name, parentenv, handler), withCallingHandlers(withVisible(value_fun(ev$value, \n",
      "  .             ev$visible)), warning = wHandler, error = eHandler, \n",
      "  .             message = mHandler), withVisible(value_fun(ev$value, \n",
      "  .             ev$visible)), value_fun(ev$value, ev$visible), prepare_mimebundle_kernel(obj, \n",
      "  .             .self$handle_display_error), prepare_mimebundle(obj, \n",
      "  .             \"text/plain\", error_handler = handle_display_error), \n",
      "  .         filter_map(mimetypes, function(mime) {\n",
      "  .             tryCatch(withCallingHandlers({\n",
      "  .                 if (!mime %in% names(repr::mime2repr)) \n",
      "  .                   stop(\"No repr_* for mimetype \", mime, \" in repr::mime2repr\")\n",
      "  .                 rpr <- repr::mime2repr[[mime]](obj)\n",
      "  .                 if (is.null(rpr)) \n",
      "  .                   return(NULL)\n",
      "  .                 prepare_content(is.raw(rpr), rpr)\n",
      "  .             }, error = error_handler), error = outer_handler)\n",
      "  .         }), Filter(Negate(is.null), sapply(x, f, simplify = simplify)), \n",
      "  .         unlist(lapply(x, f)), lapply(x, f), sapply(x, f, simplify = simplify), \n",
      "  .         lapply(X = X, FUN = FUN, ...), FUN(X[[i]], ...), tryCatch(withCallingHandlers({\n",
      "  .             if (!mime %in% names(repr::mime2repr)) \n",
      "  .                 stop(\"No repr_* for mimetype \", mime, \" in repr::mime2repr\")\n",
      "  .             rpr <- repr::mime2repr[[mime]](obj)\n",
      "  .             if (is.null(rpr)) \n",
      "  .                 return(NULL)\n",
      "  .             prepare_content(is.raw(rpr), rpr)\n",
      "  .         }, error = error_handler), error = outer_handler), tryCatchList(expr, \n",
      "  .             classes, parentenv, handlers), tryCatchOne(expr, \n",
      "  .             names, parentenv, handlers[[1L]]), doTryCatch(return(expr), \n",
      "  .             name, parentenv, handler), withCallingHandlers({\n",
      "  .             if (!mime %in% names(repr::mime2repr)) \n",
      "  .                 stop(\"No repr_* for mimetype \", mime, \" in repr::mime2repr\")\n",
      "  .             rpr <- repr::mime2repr[[mime]](obj)\n",
      "  .             if (is.null(rpr)) \n",
      "  .                 return(NULL)\n",
      "  .             prepare_content(is.raw(rpr), rpr)\n",
      "  .         }, error = error_handler), repr::mime2repr[[mime]](obj), \n",
      "  .         repr_text.default(obj), paste(capture.output(print(obj)), \n",
      "  .             collapse = \"\\n\"), capture.output(print(obj)), withVisible(...elt(i)), \n",
      "  .         print(obj), print.ggplot(obj), ggplot_build(x), ggplot_build.ggplot(x), \n",
      "  .         by_layer(function(l, d) l$compute_statistic(d, layout), \n",
      "  .             layers, data, \"computing stat\"), try_fetch(for (i in seq_along(data)) {\n",
      "  .             out[[i]] <- f(l = layers[[i]], d = data[[i]])\n",
      "  .         }, error = function(cnd) {\n",
      "  .             cli::cli_abort(c(\"Problem while {step}.\", i = \"Error occurred in the {ordinal(i)} layer.\"), \n",
      "  .                 call = layers[[i]]$constructor, parent = cnd)\n",
      "  .         }), tryCatch(withCallingHandlers(expr, error = function(cnd) {\n",
      "  .             {\n",
      "  .                 .__handler_frame__. <- TRUE\n",
      "  .                 .__setup_frame__. <- frame\n",
      "  .             }\n",
      "  .             out <- handlers[[1L]](cnd)\n",
      "  .             if (!inherits(out, \"rlang_zap\")) \n",
      "  .                 throw(out)\n",
      "  .         }), stackOverflowError = handlers[[1L]]), tryCatchList(expr, \n",
      "  .             classes, parentenv, handlers), tryCatchOne(expr, \n",
      "  .             names, parentenv, handlers[[1L]]), doTryCatch(return(expr), \n",
      "  .             name, parentenv, handler), withCallingHandlers(expr, \n",
      "  .             error = function(cnd) {\n",
      "  .                 {\n",
      "  .                   .__handler_frame__. <- TRUE\n",
      "  .                   .__setup_frame__. <- frame\n",
      "  .                 }\n",
      "  .                 out <- handlers[[1L]](cnd)\n",
      "  .                 if (!inherits(out, \"rlang_zap\")) \n",
      "  .                   throw(out)\n",
      "  .             }), f(l = layers[[i]], d = data[[i]]), l$compute_statistic(d, \n",
      "  .             layout), compute_statistic(..., self = self), self$stat$setup_params(data, \n",
      "  .             self$stat_params), setup_params(..., self = self), \n",
      "  .         cli::cli_abort(c(\"{.fn {snake_class(self)}} requires a continuous {.field {x}} aesthetic\", \n",
      "  .             x = \"the {.field {x}} aesthetic is discrete.\", i = \"Perhaps you want {.code stat=\\\"count\\\"}?\")), \n",
      "  .         rlang::abort(message, ..., call = call, use_cli_format = TRUE, \n",
      "  .             .frame = .frame)), parent = c(0L, 1L, 2L, 3L, 4L, \n",
      "  .     5L, 6L, 7L, 6L, 9L, 10L, 4L, 12L, 13L, 14L, 15L, 16L, 17L, \n",
      "  .     18L, 13L, 13L, 13L, 22L, 23L, 24L, 25L, 26L, 26L, 25L, 29L, \n",
      "  .     30L, 31L, 32L, 33L, 34L, 31L, 31L, 31L, 38L, 38L, 40L, 38L, \n",
      "  .     38L, 43L, 43L, 45L, 46L, 47L, 48L, 49L, 50L, 47L, 46L, 53L, \n",
      "  .     54L, 55L, 56L, 57L, 58L), visible = c(TRUE, TRUE, TRUE, TRUE, \n",
      "  .     TRUE, TRUE, TRUE, TRUE, TRUE, TRUE, TRUE, TRUE, TRUE, TRUE, \n",
      "  .     TRUE, TRUE, TRUE, TRUE, TRUE, TRUE, TRUE, TRUE, TRUE, TRUE, \n",
      "  .     TRUE, TRUE, TRUE, TRUE, TRUE, TRUE, TRUE, TRUE, TRUE, TRUE, \n",
      "  .     TRUE, TRUE, TRUE, TRUE, TRUE, TRUE, TRUE, TRUE, TRUE, TRUE, \n",
      "  .     TRUE, TRUE, TRUE, TRUE, TRUE, TRUE, TRUE, TRUE, TRUE, TRUE, \n",
      "  .     TRUE, TRUE, TRUE, FALSE, FALSE), namespace = c(\"IRkernel\", \n",
      "  .     NA, \"IRkernel\", NA, \"base\", \"base\", \"base\", \"base\", \"base\", \n",
      "  .     \"base\", \"base\", \"evaluate\", \"evaluate\", \"evaluate\", \"base\", \n",
      "  .     \"base\", \"base\", \"base\", \"base\", \"base\", \"base\", \"IRkernel\", \n",
      "  .     \"IRkernel\", \"IRdisplay\", \"IRdisplay\", \"base\", \"base\", \"base\", \n",
      "  .     \"base\", \"base\", \"IRdisplay\", \"base\", \"base\", \"base\", \"base\", \n",
      "  .     \"base\", NA, \"repr\", \"base\", \"utils\", \"base\", \"base\", \"ggplot2\", \n",
      "  .     \"ggplot2\", \"ggplot2\", \"ggplot2\", \"rlang\", \"base\", \"base\", \n",
      "  .     \"base\", \"base\", \"base\", \"ggplot2\", NA, \"ggplot2\", NA, \"ggplot2\", \n",
      "  .     \"cli\", \"rlang\"), scope = c(\"::\", NA, \"local\", NA, \"::\", \"local\", \n",
      "  .     \"local\", \"local\", \"local\", \"local\", \"local\", \"::\", \":::\", \n",
      "  .     \"local\", \"::\", \"::\", \"local\", \"local\", \"local\", \"::\", \"::\", \n",
      "  .     \"local\", \":::\", \"::\", \":::\", \"::\", \"::\", \"::\", \"::\", \"::\", \n",
      "  .     \"local\", \"::\", \"local\", \"local\", \"local\", \"::\", NA, \":::\", \n",
      "  .     \"::\", \"::\", \"::\", \"::\", \":::\", \"::\", \":::\", \":::\", \"::\", \n",
      "  .     \"::\", \"local\", \"local\", \"local\", \"::\", \"local\", NA, \"local\", \n",
      "  .     NA, \"local\", \"::\", \"::\"), error_frame = c(FALSE, FALSE, FALSE, \n",
      "  .     FALSE, FALSE, FALSE, FALSE, FALSE, FALSE, FALSE, FALSE, FALSE, \n",
      "  .     FALSE, FALSE, FALSE, FALSE, FALSE, FALSE, FALSE, FALSE, FALSE, \n",
      "  .     FALSE, FALSE, FALSE, FALSE, FALSE, FALSE, FALSE, FALSE, FALSE, \n",
      "  .     FALSE, FALSE, FALSE, FALSE, FALSE, FALSE, FALSE, FALSE, FALSE, \n",
      "  .     FALSE, FALSE, FALSE, FALSE, FALSE, FALSE, FALSE, FALSE, FALSE, \n",
      "  .     FALSE, FALSE, FALSE, FALSE, FALSE, FALSE, FALSE, FALSE, TRUE, \n",
      "  .     FALSE, FALSE)), row.names = c(NA, -59L), version = 2L, class = c(\"rlang_trace\", \n",
      "  .     \"rlib_trace\", \"tbl\", \"data.frame\")), parent = NULL, body = c(x = \"the \\033[32mx\\033[39m aesthetic is discrete.\", \n",
      "  .     i = \"Perhaps you want `stat=\\\"count\\\"`?\"), call = setup_params(..., \n",
      "  .         self = self), use_cli_format = TRUE), class = c(\"rlang_error\", \n",
      "  . \"error\", \"condition\")))\n",
      "32. handlers[[1L]](cnd)\n",
      "33. cli::cli_abort(c(\"Problem while {step}.\", i = \"Error occurred in the {ordinal(i)} layer.\"), \n",
      "  .     call = layers[[i]]$constructor, parent = cnd)\n",
      "34. rlang::abort(message, ..., call = call, use_cli_format = TRUE, \n",
      "  .     .frame = .frame)\n",
      "35. signal_abort(cnd, .file)\n"
     ]
    }
   ],
   "source": [
    "library(ggplot2)\n",
    "ggplot(df_madrid, aes(x=Square.Meters)) + geom_histogram(fill=\"red\", color=\"black\")"
   ]
  },
  {
   "cell_type": "markdown",
   "metadata": {},
   "source": [
    "Asigna el valor NA a la columna Square.Meters de los apartamentos que tengan menos de 20 m^2"
   ]
  },
  {
   "cell_type": "code",
   "execution_count": null,
   "metadata": {},
   "outputs": [],
   "source": [
    "df_madrid$Square.Meters[df_madrid$Square.Meters<'20'] <- 'NA'\n",
    "df_madrid$Square.Meters"
   ]
  },
  {
   "cell_type": "markdown",
   "metadata": {},
   "source": [
    "Existen varios Barrios que todas sus entradas de Square.Meters son NA, vamos a eliminar del dataset todos los pisos que pertenecen a estos barrios."
   ]
  },
  {
   "cell_type": "code",
   "execution_count": null,
   "metadata": {},
   "outputs": [],
   "source": [
    "df_madrid[!(df_madrid$Square.Meters=='NA'), ]"
   ]
  },
  {
   "cell_type": "markdown",
   "metadata": {},
   "source": [
    "El barrio parece ser un indicador importante para los metros cuadrados de un apartamento.\n",
    "\n",
    "Vamos a agrupar los barrios por metros cuadrados. Podemos usar una matriz de similaridad de Tukey tal y como hicimos en el curso de estadística:"
   ]
  },
  {
   "cell_type": "code",
   "execution_count": null,
   "metadata": {},
   "outputs": [],
   "source": [
    "tky<-TukeyHSD(aov( formula=Square.Meters~Neighbourhood, data=df_madrid ))\n",
    "tky.result<-data.frame(tky$Neighbourhood)\n",
    "cn <-sort(unique(df_madrid$Neighbourhood))\n",
    "resm <- matrix(NA, length(cn),length(cn))\n",
    "rownames(resm) <- cn\n",
    "colnames(resm) <- cn\n",
    "resm[lower.tri(resm) ] <- round(tky.result$p.adj,4)\n",
    "resm[upper.tri(resm) ] <- t(resm)[upper.tri(resm)] \n",
    "diag(resm) <- 1\n",
    "library(ggplot2)\n",
    "library(reshape2)\n",
    "dfResm <- melt(resm)\n",
    "ggplot(dfResm, aes(x=Var1, y=Var2, fill=value))+\n",
    "  geom_tile(colour = \"black\")+\n",
    "  scale_fill_gradient(low = \"white\",high = \"steelblue\")+\n",
    "  ylab(\"Class\")+xlab(\"Class\")+theme_bw()+\n",
    "  theme(axis.text.x = element_text(angle = 90, hjust = 1),legend.position=\"none\")"
   ]
  },
  {
   "cell_type": "markdown",
   "metadata": {},
   "source": [
    "Usando como variable de distancia: 1-resm\n",
    "Dibuja un dendrograma de los diferentes barrios.\n"
   ]
  },
  {
   "cell_type": "code",
   "execution_count": null,
   "metadata": {},
   "outputs": [],
   "source": [
    "# primero matriz de distancia de datos:\n",
    "\n",
    "d <- as.dist(1-resnm)\n",
    "\n",
    "## cluster jerarquico\n",
    "\n",
    "hc <- hclust(d,method=\"complete\")\n",
    "\n",
    "##\n",
    "\n",
    "par(cex=0.4)\n",
    "plot(hc)\n",
    "abline(h=0.2, col=\"red\")"
   ]
  },
  {
   "cell_type": "markdown",
   "metadata": {},
   "source": [
    "¿Que punto de corte sería el aconsejable?, ¿cuantos clusters aparecen?"
   ]
  },
  {
   "cell_type": "code",
   "execution_count": null,
   "metadata": {},
   "outputs": [],
   "source": [
    "El corte lo pondría a una altura de 0.2 y con esto obtengo 3 Clusters"
   ]
  },
  {
   "cell_type": "markdown",
   "metadata": {},
   "source": [
    "Vamos a crear una nueva columna en el dataframe df_madrid con un nuevo identificador marcado por los clusters obtenidos. Esta columna la llamaremos neighb_id"
   ]
  },
  {
   "cell_type": "code",
   "execution_count": null,
   "metadata": {},
   "outputs": [],
   "source": [
    "clusters <- cutree(dendrograma,k=3)\n",
    "clusters <- data.frame(as.factor(clusters))\n",
    "names(clusters)=\"neighb_id\"\n",
    "clusters[\"Neighbourhood\"]=rownames(clusters)\n",
    "clusters"
   ]
  },
  {
   "cell_type": "code",
   "execution_count": null,
   "metadata": {},
   "outputs": [],
   "source": [
    "df_madrid_clusters <- merge(x=df_madrid, y=clusters, by=\"Neighbourhood\")\n",
    "df_madrid_clusters"
   ]
  },
  {
   "cell_type": "markdown",
   "metadata": {},
   "source": [
    "Vamos a crear dos grupos, uno test y otro train.\n",
    "\n",
    "Tratamos de predecir los metros cuadrados en función del resto de columnas del dataframe."
   ]
  },
  {
   "cell_type": "code",
   "execution_count": null,
   "metadata": {},
   "outputs": [],
   "source": []
  },
  {
   "cell_type": "code",
   "execution_count": null,
   "metadata": {},
   "outputs": [],
   "source": []
  },
  {
   "cell_type": "markdown",
   "metadata": {},
   "source": [
    "Mirad el histograma de los residuos sobre el conjunto de test para evaluar la calidad de vuestro modelo"
   ]
  },
  {
   "cell_type": "code",
   "execution_count": null,
   "metadata": {},
   "outputs": [],
   "source": []
  },
  {
   "cell_type": "code",
   "execution_count": null,
   "metadata": {},
   "outputs": [],
   "source": []
  },
  {
   "cell_type": "markdown",
   "metadata": {},
   "source": [
    "Si tuvieramos un anuncio de un apartamento para 6 personas (Accommodates), con 1 baño, con un precio de 80€/noche y 3 habitaciones en el barrio de Sol, con 3 camas y un review de 80.\n",
    "¿Cuantos metros cuadrados tendría? Si tu modelo necesita algúna variable adicional puedes inventartela dentro del rango de valores del dataset.\n",
    "¿Como varía sus metros cuadrados con cada habitación adicional?"
   ]
  },
  {
   "cell_type": "code",
   "execution_count": null,
   "metadata": {},
   "outputs": [],
   "source": []
  },
  {
   "cell_type": "code",
   "execution_count": null,
   "metadata": {},
   "outputs": [],
   "source": []
  },
  {
   "cell_type": "markdown",
   "metadata": {},
   "source": [
    "Rellenar los Square.Meters con valor NA con el estimado con el modelo anterior."
   ]
  },
  {
   "cell_type": "code",
   "execution_count": null,
   "metadata": {},
   "outputs": [],
   "source": []
  },
  {
   "cell_type": "markdown",
   "metadata": {},
   "source": [
    "Usar PCA para encontrar el apartamento más cercano a uno dado.\n",
    "\n",
    "Este algoritmo nos ayudaría a dado un apartamento que el algoritmo nos devolvería los 5 apartamentos más similares.\n",
    "\n",
    "\n",
    "Crearemos una función tal que le pasemos un apartamento con los siguientes datos:\n",
    "* Accommodates\t\n",
    "* Bathrooms\t\n",
    "* Bedrooms\t\n",
    "* Beds\t\n",
    "* Price\t\n",
    "* Guests.Included\t\n",
    "* Extra.People\t\n",
    "* Review.Scores.Rating\t\n",
    "* Latitude\t\n",
    "* Longitude\t\n",
    "* Square.Meters\n",
    "\n",
    "y nos devuelva los 5 más similares de:"
   ]
  },
  {
   "cell_type": "code",
   "execution_count": null,
   "metadata": {},
   "outputs": [],
   "source": []
  },
  {
   "cell_type": "code",
   "execution_count": null,
   "metadata": {},
   "outputs": [],
   "source": []
  },
  {
   "cell_type": "code",
   "execution_count": null,
   "metadata": {},
   "outputs": [],
   "source": []
  },
  {
   "cell_type": "code",
   "execution_count": null,
   "metadata": {},
   "outputs": [],
   "source": []
  },
  {
   "cell_type": "code",
   "execution_count": null,
   "metadata": {},
   "outputs": [],
   "source": []
  },
  {
   "cell_type": "markdown",
   "metadata": {},
   "source": [
    "Bonus: ¿de todas las coordenadas PCA cual es la que mejor permite clasificar por id de barrio?\n",
    "\n",
    "¿Por qué?"
   ]
  },
  {
   "cell_type": "code",
   "execution_count": null,
   "metadata": {},
   "outputs": [],
   "source": []
  },
  {
   "cell_type": "code",
   "execution_count": null,
   "metadata": {},
   "outputs": [],
   "source": []
  },
  {
   "cell_type": "code",
   "execution_count": null,
   "metadata": {},
   "outputs": [],
   "source": []
  },
  {
   "cell_type": "code",
   "execution_count": null,
   "metadata": {},
   "outputs": [],
   "source": []
  },
  {
   "cell_type": "code",
   "execution_count": null,
   "metadata": {},
   "outputs": [],
   "source": []
  }
 ],
 "metadata": {
  "kernelspec": {
   "display_name": "R",
   "language": "R",
   "name": "ir"
  },
  "language_info": {
   "codemirror_mode": "r",
   "file_extension": ".r",
   "mimetype": "text/x-r-source",
   "name": "R",
   "pygments_lexer": "r",
   "version": "4.2.2"
  }
 },
 "nbformat": 4,
 "nbformat_minor": 2
}
